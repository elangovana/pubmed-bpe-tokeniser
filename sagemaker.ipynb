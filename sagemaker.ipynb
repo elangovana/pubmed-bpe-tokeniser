{
 "cells": [
  {
   "cell_type": "markdown",
   "metadata": {},
   "source": [
    "## Run Tokensier on SageMaker\n",
    "\n",
    "#### Prerequisites\n",
    "\n",
    "1. Create the docker Image, See **infra/README.md** for more details\n",
    "\n",
    "\n",
    "2. Make sure you deploy the sagemaker stack to set up roles and permissions. See **infra/README.md** for more details"
   ]
  },
  {
   "cell_type": "code",
   "execution_count": 1,
   "metadata": {},
   "outputs": [],
   "source": [
    "import sys\n",
    "sys.path.append(\"./src\")"
   ]
  },
  {
   "cell_type": "code",
   "execution_count": 2,
   "metadata": {},
   "outputs": [],
   "source": [
    "role_name = \"bpe-sagemaker-SageMakerRole\"\n",
    "ecr_repo_name=\"bpe-tokeniser\"\n",
    "\n",
    "s3_input = \"s3://aegovan-data/pubmed-json/\"\n",
    "s3_output = \"s3//aegovan-data-bert/vocab/\"\n"
   ]
  },
  {
   "cell_type": "code",
   "execution_count": 3,
   "metadata": {},
   "outputs": [],
   "source": [
    "import boto3\n",
    "\n",
    "account_id = boto3.client('sts').get_caller_identity().get('Account')\n",
    "region = boto3.session.Session().region_name\n",
    "\n"
   ]
  },
  {
   "cell_type": "code",
   "execution_count": 4,
   "metadata": {},
   "outputs": [],
   "source": [
    "repository_uri = \"{}.dkr.ecr.{}.amazonaws.com/{}:latest\".format(account_id, region, ecr_repo_name)\n",
    "sagemaker_role_arn= \"arn:aws:iam::{}:role/{}\".format(account_id, role_name)\n",
    "instance_type = \"ml.m5.4xlarge\"\n",
    "\n"
   ]
  },
  {
   "cell_type": "code",
   "execution_count": 5,
   "metadata": {},
   "outputs": [],
   "source": [
    "from sagemaker.network import NetworkConfig\n",
    "from sagemaker.processing import ProcessingInput, ProcessingOutput\n",
    "from sagemaker.processing import ScriptProcessor"
   ]
  },
  {
   "cell_type": "code",
   "execution_count": null,
   "metadata": {},
   "outputs": [
    {
     "name": "stdout",
     "output_type": "stream",
     "text": [
      "."
     ]
    }
   ],
   "source": [
    "import os\n",
    "\n",
    "sm_local_input = \"/opt/ml/processing/input/data\"\n",
    "sm_local_output = \"/opt/ml/processing/output\"\n",
    "\n",
    "script_processor = ScriptProcessor(image_uri=repository_uri,\n",
    "                                       command=[\"python3\"],\n",
    "                                       env={'mode': 'python'},\n",
    "                                       role=sagemaker_role_arn,\n",
    "                                       instance_type=instance_type,\n",
    "                                       instance_count=1,\n",
    "                                       volume_size_in_gb = 150,\n",
    "                                       network_config=NetworkConfig(enable_network_isolation=False)\n",
    "                                       )\n",
    "\n",
    "script_processor.run(\n",
    "        code='src/pubmed_bpe_tokeniser.py',\n",
    "\n",
    "        arguments=['--datadir',sm_local_input,\n",
    "                   \"--outputfile\", os.path.join( sm_local_output, \"vocab.json\"),\n",
    "                   \"--vocabsize\", '30000',\n",
    "                   \"--log-level\", \"INFO\"],\n",
    "\n",
    "        inputs=[\n",
    "            ProcessingInput(\n",
    "                source=s3_input,\n",
    "                destination=sm_local_input)\n",
    "        ],\n",
    "\n",
    "        outputs=[ProcessingOutput(source=sm_local_output, destination=s3_output)]\n",
    "    )"
   ]
  }
 ],
 "metadata": {
  "kernelspec": {
   "display_name": "Python 3",
   "language": "python",
   "name": "python3"
  },
  "language_info": {
   "codemirror_mode": {
    "name": "ipython",
    "version": 3
   },
   "file_extension": ".py",
   "mimetype": "text/x-python",
   "name": "python",
   "nbconvert_exporter": "python",
   "pygments_lexer": "ipython3",
   "version": "3.7.4"
  }
 },
 "nbformat": 4,
 "nbformat_minor": 1
}
